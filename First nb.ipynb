{
    "cells": [
        {
            "cell_type": "markdown",
            "metadata": {
                "collapsed": true
            },
            "source": "description"
        },
        {
            "cell_type": "code",
            "execution_count": 5,
            "metadata": {},
            "outputs": [],
            "source": "# The code was removed by Watson Studio for sharing."
        },
        {
            "cell_type": "code",
            "execution_count": 6,
            "metadata": {},
            "outputs": [],
            "source": "# The code was removed by Watson Studio for sharing."
        },
        {
            "cell_type": "code",
            "execution_count": 7,
            "metadata": {},
            "outputs": [
                {
                    "data": {
                        "text/html": "<div>\n<style scoped>\n    .dataframe tbody tr th:only-of-type {\n        vertical-align: middle;\n    }\n\n    .dataframe tbody tr th {\n        vertical-align: top;\n    }\n\n    .dataframe thead th {\n        text-align: right;\n    }\n</style>\n<table border=\"1\" class=\"dataframe\">\n  <thead>\n    <tr style=\"text-align: right;\">\n      <th></th>\n      <th>Date</th>\n      <th>Total Revenue</th>\n      <th>Unnamed: 2</th>\n      <th>Unnamed: 3</th>\n      <th>Unnamed: 4</th>\n      <th>Unnamed: 5</th>\n      <th>Unnamed: 6</th>\n      <th>Unnamed: 7</th>\n      <th>Unnamed: 8</th>\n      <th>Unnamed: 9</th>\n      <th>Unnamed: 10</th>\n      <th>Active Subscriber</th>\n      <th>Total Registered Sub base</th>\n      <th>Max Capacity</th>\n    </tr>\n  </thead>\n  <tbody>\n    <tr>\n      <th>0</th>\n      <td>2016-03-01 00:00:00</td>\n      <td>16547.2</td>\n      <td>NaN</td>\n      <td>NaN</td>\n      <td>NaN</td>\n      <td>NaN</td>\n      <td>NaN</td>\n      <td>NaN</td>\n      <td>NaN</td>\n      <td>NaN</td>\n      <td>2016-03-01 00:00:00</td>\n      <td>370</td>\n      <td>115662.0</td>\n      <td>500000</td>\n    </tr>\n    <tr>\n      <th>1</th>\n      <td>2016-03-02 00:00:00</td>\n      <td>17996.4</td>\n      <td>NaN</td>\n      <td>NaN</td>\n      <td>NaN</td>\n      <td>NaN</td>\n      <td>NaN</td>\n      <td>NaN</td>\n      <td>NaN</td>\n      <td>NaN</td>\n      <td>2016-03-02 00:00:00</td>\n      <td>742</td>\n      <td>115871.0</td>\n      <td>500000</td>\n    </tr>\n    <tr>\n      <th>2</th>\n      <td>2016-03-03 00:00:00</td>\n      <td>18837.4</td>\n      <td>NaN</td>\n      <td>NaN</td>\n      <td>NaN</td>\n      <td>NaN</td>\n      <td>NaN</td>\n      <td>NaN</td>\n      <td>NaN</td>\n      <td>NaN</td>\n      <td>2016-03-03 00:00:00</td>\n      <td>995</td>\n      <td>116159.0</td>\n      <td>500000</td>\n    </tr>\n    <tr>\n      <th>3</th>\n      <td>2016-03-04 00:00:00</td>\n      <td>17372.8</td>\n      <td>NaN</td>\n      <td>NaN</td>\n      <td>NaN</td>\n      <td>NaN</td>\n      <td>NaN</td>\n      <td>NaN</td>\n      <td>NaN</td>\n      <td>NaN</td>\n      <td>2016-03-04 00:00:00</td>\n      <td>709</td>\n      <td>116588.0</td>\n      <td>500000</td>\n    </tr>\n    <tr>\n      <th>4</th>\n      <td>2016-03-05 00:00:00</td>\n      <td>17156.2</td>\n      <td>NaN</td>\n      <td>NaN</td>\n      <td>NaN</td>\n      <td>NaN</td>\n      <td>NaN</td>\n      <td>NaN</td>\n      <td>NaN</td>\n      <td>NaN</td>\n      <td>2016-03-05 00:00:00</td>\n      <td>344</td>\n      <td>116747.0</td>\n      <td>500000</td>\n    </tr>\n  </tbody>\n</table>\n</div>",
                        "text/plain": "                  Date Total Revenue  Unnamed: 2  Unnamed: 3  Unnamed: 4  \\\n0  2016-03-01 00:00:00       16547.2         NaN         NaN         NaN   \n1  2016-03-02 00:00:00       17996.4         NaN         NaN         NaN   \n2  2016-03-03 00:00:00       18837.4         NaN         NaN         NaN   \n3  2016-03-04 00:00:00       17372.8         NaN         NaN         NaN   \n4  2016-03-05 00:00:00       17156.2         NaN         NaN         NaN   \n\n   Unnamed: 5  Unnamed: 6  Unnamed: 7  Unnamed: 8  Unnamed: 9  \\\n0         NaN         NaN         NaN         NaN         NaN   \n1         NaN         NaN         NaN         NaN         NaN   \n2         NaN         NaN         NaN         NaN         NaN   \n3         NaN         NaN         NaN         NaN         NaN   \n4         NaN         NaN         NaN         NaN         NaN   \n\n           Unnamed: 10 Active Subscriber  Total Registered Sub base  \\\n0  2016-03-01 00:00:00               370                   115662.0   \n1  2016-03-02 00:00:00               742                   115871.0   \n2  2016-03-03 00:00:00               995                   116159.0   \n3  2016-03-04 00:00:00               709                   116588.0   \n4  2016-03-05 00:00:00               344                   116747.0   \n\n   Max Capacity  \n0        500000  \n1        500000  \n2        500000  \n3        500000  \n4        500000  "
                    },
                    "execution_count": 7,
                    "metadata": {},
                    "output_type": "execute_result"
                }
            ],
            "source": "# The code was removed by Watson Studio for sharing."
        },
        {
            "cell_type": "code",
            "execution_count": null,
            "metadata": {},
            "outputs": [],
            "source": ""
        }
    ],
    "metadata": {
        "kernelspec": {
            "display_name": "Python 3.10",
            "language": "python",
            "name": "python3"
        },
        "language_info": {
            "codemirror_mode": {
                "name": "ipython",
                "version": 3
            },
            "file_extension": ".py",
            "mimetype": "text/x-python",
            "name": "python",
            "nbconvert_exporter": "python",
            "pygments_lexer": "ipython3",
            "version": "3.10.6"
        }
    },
    "nbformat": 4,
    "nbformat_minor": 1
}