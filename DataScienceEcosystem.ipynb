{
 "cells": [
  {
   "cell_type": "markdown",
   "id": "54e39d94",
   "metadata": {},
   "source": [
    "<h1>Data Science Tools and Ecosystem</h1>"
   ]
  },
  {
   "cell_type": "markdown",
   "id": "73cc1272",
   "metadata": {},
   "source": [
    "<p>In this notebook, Data Science Tools and Ecosystem are summarized</p>"
   ]
  },
  {
   "cell_type": "markdown",
   "id": "3d46c16b",
   "metadata": {},
   "source": [
    "<b>Objectives</b>\n",
    "<ul>\n",
    "    <li>List of popular languages for Data Science</li>\n",
    "    <li>List of commonly used libraries by Data Scientists</li>\n",
    "    <li>List of development environments for Data science</li>\n",
    "    <li>Some examples of evaluating arithmetic expressions in Python</li>\n",
    "</ul>\n",
    "    "
   ]
  },
  {
   "cell_type": "markdown",
   "id": "47ab561e",
   "metadata": {},
   "source": [
    "<p>Some of the popular languages that Data Scientists use are:</p>\n",
    "<ol>\n",
    "    <li>Python</li>\n",
    "    <li>R</li>\n",
    "    <li>SQL</li>\n",
    "    <li>Java</li>\n",
    "    <li>Scala</li>\n",
    "</ol>"
   ]
  },
  {
   "cell_type": "markdown",
   "id": "edf448ad",
   "metadata": {},
   "source": [
    "<p>Some of the commonly used libraries used by Data Scientists include:</p>\n",
    "<ol>\n",
    "    <li>Pandas</li>\n",
    "    <li>Numpy</li>\n",
    "    <li>Matplotlib</li>\n",
    "    <li>Keras</li>\n",
    "    <li>Pytorch</li>\n",
    "</ol>"
   ]
  },
  {
   "cell_type": "markdown",
   "id": "b79528d4",
   "metadata": {},
   "source": [
    "<table>\n",
    "   <tr> \n",
    "    <th>Data Science Tools</th>\n",
    "   </tr>\n",
    "    <tr>\n",
    "        <td>Jupyter</td>\n",
    "    </tr> \n",
    "    <tr>\n",
    "        <td>Apache Zeppelin</td>\n",
    "    </tr>\n",
    "    <tr>\n",
    "        <td>R Studio</td>\n",
    "    </tr>\n",
    "</table>    \n",
    "\n",
    "  "
   ]
  },
  {
   "cell_type": "markdown",
   "id": "afb32661",
   "metadata": {},
   "source": [
    "<h3>Below are a few examples of evaluating arithmetic expressions in Python</h3>"
   ]
  },
  {
   "cell_type": "code",
   "execution_count": 8,
   "id": "411a045d",
   "metadata": {},
   "outputs": [
    {
     "name": "stdout",
     "output_type": "stream",
     "text": [
      "This a simple arithmetic expression to mutiply then add integers\n",
      "17\n"
     ]
    }
   ],
   "source": [
    "print('This a simple arithmetic expression to mutiply then add integers')\n",
    "ex = (3*4) + 5\n",
    "print(ex)"
   ]
  },
  {
   "cell_type": "code",
   "execution_count": 9,
   "id": "8b328ed1",
   "metadata": {
    "scrolled": true
   },
   "outputs": [
    {
     "name": "stdout",
     "output_type": "stream",
     "text": [
      "This will convert 200 minutes to hours by diving by 60\n",
      "3.3333333333333335\n"
     ]
    }
   ],
   "source": [
    "print('This will convert 200 minutes to hours by diving by 60')\n",
    "hr = 200/60\n",
    "print(hr)"
   ]
  },
  {
   "cell_type": "markdown",
   "id": "047a9758",
   "metadata": {},
   "source": [
    "<h2>Author</h2>\n",
    "<p>Noor Uddin Sakib</p>"
   ]
  },
  {
   "cell_type": "code",
   "execution_count": null,
   "id": "18983bdf",
   "metadata": {},
   "outputs": [],
   "source": []
  }
 ],
 "metadata": {
  "kernelspec": {
   "display_name": "Python 3 (ipykernel)",
   "language": "python",
   "name": "python3"
  },
  "language_info": {
   "codemirror_mode": {
    "name": "ipython",
    "version": 3
   },
   "file_extension": ".py",
   "mimetype": "text/x-python",
   "name": "python",
   "nbconvert_exporter": "python",
   "pygments_lexer": "ipython3",
   "version": "3.9.13"
  }
 },
 "nbformat": 4,
 "nbformat_minor": 5
}
